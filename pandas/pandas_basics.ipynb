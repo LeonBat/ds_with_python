{
 "cells": [
  {
   "cell_type": "markdown",
   "metadata": {},
   "source": [
    "<div\n",
    "style =\n",
    "'background-image: linear-gradient(#333333, #F0F0F0);\n",
    "box-shadow: 2px 2px 2px black;\n",
    "border: 2px solid gray'>\n",
    "\n",
    "<h1 \n",
    "style = \n",
    "'text-align: center;\n",
    "color: black;'> \n",
    "Pandas </h1>\n",
    "\n",
    "</div>"
   ]
  }
 ],
 "metadata": {
  "language_info": {
   "name": "python"
  }
 },
 "nbformat": 4,
 "nbformat_minor": 2
}
